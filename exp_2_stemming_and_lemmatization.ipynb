{
  "nbformat": 4,
  "nbformat_minor": 0,
  "metadata": {
    "colab": {
      "provenance": [],
      "authorship_tag": "ABX9TyNa+PrBUG9LUaOoNKBB2pPi",
      "include_colab_link": true
    },
    "kernelspec": {
      "name": "python3",
      "display_name": "Python 3"
    },
    "language_info": {
      "name": "python"
    }
  },
  "cells": [
    {
      "cell_type": "markdown",
      "metadata": {
        "id": "view-in-github",
        "colab_type": "text"
      },
      "source": [
        "<a href=\"https://colab.research.google.com/github/AKSHAY3842/NLP---LAB-EXPERIMENTS/blob/main/exp_2_stemming_and_lemmatization.ipynb\" target=\"_parent\"><img src=\"https://colab.research.google.com/assets/colab-badge.svg\" alt=\"Open In Colab\"/></a>"
      ]
    },
    {
      "cell_type": "code",
      "execution_count": 1,
      "metadata": {
        "id": "xZu_r9qAFqkF"
      },
      "outputs": [],
      "source": [
        "from nltk.stem import PorterStemmer as ps\n",
        "from nltk.stem import LancasterStemmer as ls\n",
        "from nltk.stem import RegexpStemmer as rxs\n",
        "from nltk.stem import SnowballStemmer as sbs"
      ]
    },
    {
      "cell_type": "code",
      "source": [
        "#porterstemmer\n",
        "porter=ps()\n",
        "words=['running','jumoing','swimming','happliy']\n",
        "stemmed=[porter.stem(word) for word in words]\n",
        "\n",
        "print('\\033[1mOriginal words:\\033[0m',words)\n",
        "print('\\nposterstemmer words:',stemmed)"
      ],
      "metadata": {
        "colab": {
          "base_uri": "https://localhost:8080/"
        },
        "id": "GcOnlyNMFvDc",
        "outputId": "ffdd5a52-62e4-406e-a2b1-a78dc3c57564"
      },
      "execution_count": 2,
      "outputs": [
        {
          "output_type": "stream",
          "name": "stdout",
          "text": [
            "\u001b[1mOriginal words:\u001b[0m ['running', 'jumoing', 'swimming', 'happliy']\n",
            "\n",
            "posterstemmer words: ['run', 'jumo', 'swim', 'happliy']\n"
          ]
        }
      ]
    },
    {
      "cell_type": "code",
      "source": [
        "#lancerterstemmer\n",
        "stemmed=[ls().stem(word) for word in words]\n",
        "print(\"lancaster stemmed words:\",stemmed)"
      ],
      "metadata": {
        "colab": {
          "base_uri": "https://localhost:8080/"
        },
        "id": "dQY4aaOBGFbg",
        "outputId": "d4e30e8d-a28f-4eea-8759-25ccfb073709"
      },
      "execution_count": 3,
      "outputs": [
        {
          "output_type": "stream",
          "name": "stdout",
          "text": [
            "lancaster stemmed words: ['run', 'jumo', 'swim', 'happliy']\n"
          ]
        }
      ]
    },
    {
      "cell_type": "code",
      "source": [
        "#regexpStemmer\n",
        "stemmed=[rxs('ing$|s$|ly$').stem(word) for word in words]\n",
        "print('regexp Stemmed words:',stemmed)"
      ],
      "metadata": {
        "colab": {
          "base_uri": "https://localhost:8080/"
        },
        "id": "5DVw4LWBGFd8",
        "outputId": "c56cc565-e7d0-4242-e55f-ad24dd738282"
      },
      "execution_count": 4,
      "outputs": [
        {
          "output_type": "stream",
          "name": "stdout",
          "text": [
            "regexp Stemmed words: ['runn', 'jumo', 'swimm', 'happliy']\n"
          ]
        }
      ]
    },
    {
      "cell_type": "code",
      "source": [
        "#snowball stemmer\n",
        "stemmed=[sbs('english').stem(word) for word in words]\n",
        "print('snowfall stemmed words:',stemmed)"
      ],
      "metadata": {
        "colab": {
          "base_uri": "https://localhost:8080/"
        },
        "id": "PKtS0x6GGFhJ",
        "outputId": "ce66421c-e038-49d1-f12e-c66fb42eb71f"
      },
      "execution_count": 5,
      "outputs": [
        {
          "output_type": "stream",
          "name": "stdout",
          "text": [
            "snowfall stemmed words: ['run', 'jumo', 'swim', 'happliy']\n"
          ]
        }
      ]
    },
    {
      "cell_type": "code",
      "source": [
        "#Lemmatization\n",
        "from nltk.stem import WordNetLemmatizer as wl"
      ],
      "metadata": {
        "id": "XTOp_l9yGLcG"
      },
      "execution_count": 6,
      "outputs": []
    },
    {
      "cell_type": "code",
      "source": [
        "import nltk\n",
        "nltk.download('wordnet')"
      ],
      "metadata": {
        "colab": {
          "base_uri": "https://localhost:8080/"
        },
        "id": "XAmaZZvuGRxh",
        "outputId": "b4bb27e6-c436-45a7-acbf-b1c293517f5d"
      },
      "execution_count": 12,
      "outputs": [
        {
          "output_type": "stream",
          "name": "stderr",
          "text": [
            "[nltk_data] Downloading package wordnet to /root/nltk_data...\n"
          ]
        },
        {
          "output_type": "execute_result",
          "data": {
            "text/plain": [
              "True"
            ]
          },
          "metadata": {},
          "execution_count": 12
        }
      ]
    },
    {
      "cell_type": "code",
      "source": [
        "\n",
        "wl().lemmatize('reading')\n"
      ],
      "metadata": {
        "colab": {
          "base_uri": "https://localhost:8080/",
          "height": 35
        },
        "id": "aE9yAtBOGLes",
        "outputId": "0d542113-4b8b-42bb-a4a1-e8118bfe2abd"
      },
      "execution_count": 13,
      "outputs": [
        {
          "output_type": "execute_result",
          "data": {
            "text/plain": [
              "'reading'"
            ],
            "application/vnd.google.colaboratory.intrinsic+json": {
              "type": "string"
            }
          },
          "metadata": {},
          "execution_count": 13
        }
      ]
    },
    {
      "cell_type": "code",
      "source": [
        "wl().lemmatize('sweets')"
      ],
      "metadata": {
        "colab": {
          "base_uri": "https://localhost:8080/",
          "height": 35
        },
        "id": "pFrEqbyYGnpS",
        "outputId": "ba41098a-efd6-4426-9f6b-d4fc742f7813"
      },
      "execution_count": 14,
      "outputs": [
        {
          "output_type": "execute_result",
          "data": {
            "text/plain": [
              "'sweet'"
            ],
            "application/vnd.google.colaboratory.intrinsic+json": {
              "type": "string"
            }
          },
          "metadata": {},
          "execution_count": 14
        }
      ]
    },
    {
      "cell_type": "code",
      "source": [],
      "metadata": {
        "id": "7XnOsPqaGLiD"
      },
      "execution_count": null,
      "outputs": []
    }
  ]
}