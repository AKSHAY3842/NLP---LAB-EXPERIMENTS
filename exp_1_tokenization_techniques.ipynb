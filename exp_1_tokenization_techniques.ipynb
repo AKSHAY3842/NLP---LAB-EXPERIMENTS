{
  "nbformat": 4,
  "nbformat_minor": 0,
  "metadata": {
    "colab": {
      "provenance": [],
      "authorship_tag": "ABX9TyNRE9hm7xS7odQIkXNeOVk1",
      "include_colab_link": true
    },
    "kernelspec": {
      "name": "python3",
      "display_name": "Python 3"
    },
    "language_info": {
      "name": "python"
    }
  },
  "cells": [
    {
      "cell_type": "markdown",
      "metadata": {
        "id": "view-in-github",
        "colab_type": "text"
      },
      "source": [
        "<a href=\"https://colab.research.google.com/github/AKSHAY3842/NLP---LAB-EXPERIMENTS/blob/main/exp_1_tokenization_techniques.ipynb\" target=\"_parent\"><img src=\"https://colab.research.google.com/assets/colab-badge.svg\" alt=\"Open In Colab\"/></a>"
      ]
    },
    {
      "cell_type": "code",
      "execution_count": 1,
      "metadata": {
        "id": "24o6RhnAEkWD"
      },
      "outputs": [],
      "source": [
        "import nltk"
      ]
    },
    {
      "cell_type": "code",
      "source": [
        "nltk.download('punkt')"
      ],
      "metadata": {
        "colab": {
          "base_uri": "https://localhost:8080/"
        },
        "id": "2cnwGY36ExvK",
        "outputId": "e17d7cba-ce66-4b6f-9d32-c0f2ee802998"
      },
      "execution_count": 4,
      "outputs": [
        {
          "output_type": "stream",
          "name": "stderr",
          "text": [
            "[nltk_data] Downloading package punkt to /root/nltk_data...\n",
            "[nltk_data]   Unzipping tokenizers/punkt.zip.\n"
          ]
        },
        {
          "output_type": "execute_result",
          "data": {
            "text/plain": [
              "True"
            ]
          },
          "metadata": {},
          "execution_count": 4
        }
      ]
    },
    {
      "cell_type": "code",
      "source": [
        "from nltk import word_tokenize"
      ],
      "metadata": {
        "id": "g2LxqrKiEn7g"
      },
      "execution_count": 2,
      "outputs": []
    },
    {
      "cell_type": "code",
      "source": [
        "s='God is Great! I won a lottery.'\n",
        "\n",
        "word_tokenize(s)"
      ],
      "metadata": {
        "colab": {
          "base_uri": "https://localhost:8080/"
        },
        "id": "BAxFbiZWErsg",
        "outputId": "001b0b31-ce86-4c1e-edbf-807c1d80058d"
      },
      "execution_count": 5,
      "outputs": [
        {
          "output_type": "execute_result",
          "data": {
            "text/plain": [
              "['God', 'is', 'Great', '!', 'I', 'won', 'a', 'lottery', '.']"
            ]
          },
          "metadata": {},
          "execution_count": 5
        }
      ]
    },
    {
      "cell_type": "code",
      "source": [
        "sentence=\"At eight o'clock!!! On Thursday morning and Arthur didn't feel very good. and is ill now. \"\n",
        "token=nltk.word_tokenize(sentence)\n",
        "print(token)"
      ],
      "metadata": {
        "colab": {
          "base_uri": "https://localhost:8080/"
        },
        "id": "fVqOqzVwEuzA",
        "outputId": "d2b801f1-3255-40df-96e6-349d71234657"
      },
      "execution_count": 6,
      "outputs": [
        {
          "output_type": "stream",
          "name": "stdout",
          "text": [
            "['At', 'eight', \"o'clock\", '!', '!', '!', 'On', 'Thursday', 'morning', 'and', 'Arthur', 'did', \"n't\", 'feel', 'very', 'good', '.', 'and', 'is', 'ill', 'now', '.']\n"
          ]
        }
      ]
    },
    {
      "cell_type": "code",
      "source": [
        "from nltk import sent_tokenize\n"
      ],
      "metadata": {
        "id": "3aqqH60ME_HA"
      },
      "execution_count": 7,
      "outputs": []
    },
    {
      "cell_type": "code",
      "source": [
        "sent_tokenize(sentence)"
      ],
      "metadata": {
        "colab": {
          "base_uri": "https://localhost:8080/"
        },
        "id": "tvimABPqFDYW",
        "outputId": "000e6609-c75e-4aba-fe17-1d530e9f32be"
      },
      "execution_count": 8,
      "outputs": [
        {
          "output_type": "execute_result",
          "data": {
            "text/plain": [
              "[\"At eight o'clock!!!\",\n",
              " \"On Thursday morning and Arthur didn't feel very good.\",\n",
              " 'and is ill now.']"
            ]
          },
          "metadata": {},
          "execution_count": 8
        }
      ]
    },
    {
      "cell_type": "code",
      "source": [
        "sent_tokenize(s)"
      ],
      "metadata": {
        "colab": {
          "base_uri": "https://localhost:8080/"
        },
        "id": "UsAF3JfWFDfI",
        "outputId": "4dd1ec52-62c9-4b8d-856e-9bad66444df2"
      },
      "execution_count": 9,
      "outputs": [
        {
          "output_type": "execute_result",
          "data": {
            "text/plain": [
              "['God is Great!', 'I won a lottery.']"
            ]
          },
          "metadata": {},
          "execution_count": 9
        }
      ]
    },
    {
      "cell_type": "code",
      "source": [
        "from nltk import RegexpTokenizer as rxt\n",
        "tokens=rxt(\"a\", gaps=True)"
      ],
      "metadata": {
        "id": "4CvK9VPOFDhv"
      },
      "execution_count": 10,
      "outputs": []
    },
    {
      "cell_type": "code",
      "source": [
        "tokens.tokenize(sentence)"
      ],
      "metadata": {
        "colab": {
          "base_uri": "https://localhost:8080/"
        },
        "id": "EvpEEKgyFDk7",
        "outputId": "a4bc28ee-a53d-48d2-cfef-bbf488b6738f"
      },
      "execution_count": 11,
      "outputs": [
        {
          "output_type": "execute_result",
          "data": {
            "text/plain": [
              "[\"At eight o'clock!!! On Thursd\",\n",
              " 'y morning ',\n",
              " \"nd Arthur didn't feel very good. \",\n",
              " 'nd is ill now. ']"
            ]
          },
          "metadata": {},
          "execution_count": 11
        }
      ]
    },
    {
      "cell_type": "code",
      "source": [
        "from nltk.tokenize import WordPunctTokenizer as wpt\n",
        "wpt().tokenize(sentence)"
      ],
      "metadata": {
        "colab": {
          "base_uri": "https://localhost:8080/"
        },
        "id": "g_Wq9945FLFY",
        "outputId": "3295e99d-47d8-4d8f-fbc3-ada13dea8fd6"
      },
      "execution_count": 12,
      "outputs": [
        {
          "output_type": "execute_result",
          "data": {
            "text/plain": [
              "['At',\n",
              " 'eight',\n",
              " 'o',\n",
              " \"'\",\n",
              " 'clock',\n",
              " '!!!',\n",
              " 'On',\n",
              " 'Thursday',\n",
              " 'morning',\n",
              " 'and',\n",
              " 'Arthur',\n",
              " 'didn',\n",
              " \"'\",\n",
              " 't',\n",
              " 'feel',\n",
              " 'very',\n",
              " 'good',\n",
              " '.',\n",
              " 'and',\n",
              " 'is',\n",
              " 'ill',\n",
              " 'now',\n",
              " '.']"
            ]
          },
          "metadata": {},
          "execution_count": 12
        }
      ]
    }
  ]
}