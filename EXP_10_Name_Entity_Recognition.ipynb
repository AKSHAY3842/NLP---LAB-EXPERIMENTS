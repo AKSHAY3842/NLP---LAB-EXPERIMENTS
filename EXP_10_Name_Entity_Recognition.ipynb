{
  "nbformat": 4,
  "nbformat_minor": 0,
  "metadata": {
    "colab": {
      "provenance": [],
      "authorship_tag": "ABX9TyOATJCAAECbAQsaUya5nAxd",
      "include_colab_link": true
    },
    "kernelspec": {
      "name": "python3",
      "display_name": "Python 3"
    },
    "language_info": {
      "name": "python"
    }
  },
  "cells": [
    {
      "cell_type": "markdown",
      "metadata": {
        "id": "view-in-github",
        "colab_type": "text"
      },
      "source": [
        "<a href=\"https://colab.research.google.com/github/AKSHAY3842/NLP---LAB-EXPERIMENTS/blob/main/EXP_10_Name_Entity_Recognition.ipynb\" target=\"_parent\"><img src=\"https://colab.research.google.com/assets/colab-badge.svg\" alt=\"Open In Colab\"/></a>"
      ]
    },
    {
      "cell_type": "code",
      "execution_count": null,
      "metadata": {
        "id": "32WY5kwyY7W9"
      },
      "outputs": [],
      "source": [
        "import nltk\n",
        "from nltk.corpus import stopwords\n",
        "from nltk.tokenize import word_tokenize\n",
        "from nltk.stem import PorterStemmer, WordNetLemmatizer\n",
        "from nltk import ne_chunk\n",
        "nltk.download('punkt')\n",
        "nltk.download('wordnet')\n",
        "nltk.download('stopwords')\n",
        "nltk.download('averaged_perceptron_tagger')\n",
        "nltk.download('maxent_ne_chunker')\n",
        "nltk.download('words')"
      ]
    },
    {
      "cell_type": "code",
      "source": [
        "text = \"\"\"\n",
        "Once upon a time, in a faraway kingdom, there lived a beautiful princess named Cinderella.\n",
        "She had two stepsisters who were jealous of her beauty. Despite the hardships, Cinderella\n",
        "remained kind-hearted and hopeful. One day, a grand ball was announced in the palace, and\n",
        "Cinderella dreamt of attending it. With the help of her fairy godmother, she got her wish\n",
        "and went to the ball. There, she met the charming prince, and they danced the night away.\n",
        "But as the clock struck midnight, Cinderella had to flee, leaving behind her glass slipper.\n",
        "The prince searched the kingdom to find the owner of the glass slipper. Eventually, he found\n",
        "Cinderella, and they lived happily ever after.\n",
        "\"\"\""
      ],
      "metadata": {
        "id": "LmB6SZ2bZBdk"
      },
      "execution_count": null,
      "outputs": []
    },
    {
      "cell_type": "code",
      "source": [
        "tokens = word_tokenize(text)"
      ],
      "metadata": {
        "id": "TSslDoJ8ZIPL"
      },
      "execution_count": 3,
      "outputs": []
    },
    {
      "cell_type": "code",
      "source": [
        "stemmer = PorterStemmer()\n",
        "stemmed_tokens = [stemmer.stem(token) for token in tokens]"
      ],
      "metadata": {
        "id": "jfniMZsbZu4E"
      },
      "execution_count": 4,
      "outputs": []
    },
    {
      "cell_type": "code",
      "source": [
        "lemmatizer = WordNetLemmatizer()\n",
        "lemmatized_tokens = [lemmatizer.lemmatize(token) for token in tokens]"
      ],
      "metadata": {
        "id": "1FSqneN0ZyZh"
      },
      "execution_count": 5,
      "outputs": []
    },
    {
      "cell_type": "code",
      "source": [
        "stop_words = set(stopwords.words('english'))\n",
        "filtered_tokens = [token for token in tokens if token.lower() not in stop_words]"
      ],
      "metadata": {
        "id": "zoGU1CBlZ1rv"
      },
      "execution_count": 6,
      "outputs": []
    },
    {
      "cell_type": "code",
      "source": [
        "pos_tags = nltk.pos_tag(tokens)"
      ],
      "metadata": {
        "id": "Ybsmb4JiZ7I3"
      },
      "execution_count": 7,
      "outputs": []
    },
    {
      "cell_type": "code",
      "source": [
        "ner_tags = ne_chunk(pos_tags)"
      ],
      "metadata": {
        "id": "uJJg_mzsZ7LW"
      },
      "execution_count": 8,
      "outputs": []
    },
    {
      "cell_type": "code",
      "source": [
        "print(\"Tokens:\", tokens)"
      ],
      "metadata": {
        "colab": {
          "base_uri": "https://localhost:8080/"
        },
        "id": "H2nHCcY_Z7O0",
        "outputId": "d9b460e4-8c80-45e3-a2c3-75d6a91147a6"
      },
      "execution_count": 9,
      "outputs": [
        {
          "metadata": {
            "tags": null
          },
          "name": "stdout",
          "output_type": "stream",
          "text": [
            "Tokens: ['Once', 'upon', 'a', 'time', ',', 'in', 'a', 'faraway', 'kingdom', ',', 'there', 'lived', 'a', 'beautiful', 'princess', 'named', 'Cinderella', '.', 'She', 'had', 'two', 'stepsisters', 'who', 'were', 'jealous', 'of', 'her', 'beauty', '.', 'Despite', 'the', 'hardships', ',', 'Cinderella', 'remained', 'kind-hearted', 'and', 'hopeful', '.', 'One', 'day', ',', 'a', 'grand', 'ball', 'was', 'announced', 'in', 'the', 'palace', ',', 'and', 'Cinderella', 'dreamt', 'of', 'attending', 'it', '.', 'With', 'the', 'help', 'of', 'her', 'fairy', 'godmother', ',', 'she', 'got', 'her', 'wish', 'and', 'went', 'to', 'the', 'ball', '.', 'There', ',', 'she', 'met', 'the', 'charming', 'prince', ',', 'and', 'they', 'danced', 'the', 'night', 'away', '.', 'But', 'as', 'the', 'clock', 'struck', 'midnight', ',', 'Cinderella', 'had', 'to', 'flee', ',', 'leaving', 'behind', 'her', 'glass', 'slipper', '.', 'The', 'prince', 'searched', 'the', 'kingdom', 'to', 'find', 'the', 'owner', 'of', 'the', 'glass', 'slipper', '.', 'Eventually', ',', 'he', 'found', 'Cinderella', ',', 'and', 'they', 'lived', 'happily', 'ever', 'after', '.']\n"
          ]
        }
      ]
    },
    {
      "cell_type": "code",
      "source": [
        "print(\"Stemmed Tokens:\", stemmed_tokens)"
      ],
      "metadata": {
        "colab": {
          "base_uri": "https://localhost:8080/"
        },
        "id": "Qw-aRAr4aGzk",
        "outputId": "fc0f1e3b-4c8d-43ff-99cc-2b78b308d0a4"
      },
      "execution_count": 10,
      "outputs": [
        {
          "output_type": "stream",
          "name": "stdout",
          "text": [
            "Stemmed Tokens: ['onc', 'upon', 'a', 'time', ',', 'in', 'a', 'faraway', 'kingdom', ',', 'there', 'live', 'a', 'beauti', 'princess', 'name', 'cinderella', '.', 'she', 'had', 'two', 'stepsist', 'who', 'were', 'jealou', 'of', 'her', 'beauti', '.', 'despit', 'the', 'hardship', ',', 'cinderella', 'remain', 'kind-heart', 'and', 'hope', '.', 'one', 'day', ',', 'a', 'grand', 'ball', 'wa', 'announc', 'in', 'the', 'palac', ',', 'and', 'cinderella', 'dreamt', 'of', 'attend', 'it', '.', 'with', 'the', 'help', 'of', 'her', 'fairi', 'godmoth', ',', 'she', 'got', 'her', 'wish', 'and', 'went', 'to', 'the', 'ball', '.', 'there', ',', 'she', 'met', 'the', 'charm', 'princ', ',', 'and', 'they', 'danc', 'the', 'night', 'away', '.', 'but', 'as', 'the', 'clock', 'struck', 'midnight', ',', 'cinderella', 'had', 'to', 'flee', ',', 'leav', 'behind', 'her', 'glass', 'slipper', '.', 'the', 'princ', 'search', 'the', 'kingdom', 'to', 'find', 'the', 'owner', 'of', 'the', 'glass', 'slipper', '.', 'eventu', ',', 'he', 'found', 'cinderella', ',', 'and', 'they', 'live', 'happili', 'ever', 'after', '.']\n"
          ]
        }
      ]
    },
    {
      "cell_type": "code",
      "source": [
        "print(\"Lemmatized Tokens:\", lemmatized_tokens)"
      ],
      "metadata": {
        "colab": {
          "base_uri": "https://localhost:8080/"
        },
        "id": "1qzI_-roaThu",
        "outputId": "4e6cdeb9-aefb-40ab-d11c-c63593562b8c"
      },
      "execution_count": 11,
      "outputs": [
        {
          "metadata": {
            "tags": null
          },
          "name": "stdout",
          "output_type": "stream",
          "text": [
            "Lemmatized Tokens: ['Once', 'upon', 'a', 'time', ',', 'in', 'a', 'faraway', 'kingdom', ',', 'there', 'lived', 'a', 'beautiful', 'princess', 'named', 'Cinderella', '.', 'She', 'had', 'two', 'stepsister', 'who', 'were', 'jealous', 'of', 'her', 'beauty', '.', 'Despite', 'the', 'hardship', ',', 'Cinderella', 'remained', 'kind-hearted', 'and', 'hopeful', '.', 'One', 'day', ',', 'a', 'grand', 'ball', 'wa', 'announced', 'in', 'the', 'palace', ',', 'and', 'Cinderella', 'dreamt', 'of', 'attending', 'it', '.', 'With', 'the', 'help', 'of', 'her', 'fairy', 'godmother', ',', 'she', 'got', 'her', 'wish', 'and', 'went', 'to', 'the', 'ball', '.', 'There', ',', 'she', 'met', 'the', 'charming', 'prince', ',', 'and', 'they', 'danced', 'the', 'night', 'away', '.', 'But', 'a', 'the', 'clock', 'struck', 'midnight', ',', 'Cinderella', 'had', 'to', 'flee', ',', 'leaving', 'behind', 'her', 'glass', 'slipper', '.', 'The', 'prince', 'searched', 'the', 'kingdom', 'to', 'find', 'the', 'owner', 'of', 'the', 'glass', 'slipper', '.', 'Eventually', ',', 'he', 'found', 'Cinderella', ',', 'and', 'they', 'lived', 'happily', 'ever', 'after', '.']\n"
          ]
        }
      ]
    },
    {
      "cell_type": "code",
      "source": [
        "print(\"Filtered Tokens :\", filtered_tokens)"
      ],
      "metadata": {
        "colab": {
          "base_uri": "https://localhost:8080/"
        },
        "id": "YAd2ui87aWB4",
        "outputId": "a6b76a57-bdbc-4f46-fbf0-d06dd3142fe6"
      },
      "execution_count": 12,
      "outputs": [
        {
          "metadata": {
            "tags": null
          },
          "name": "stdout",
          "output_type": "stream",
          "text": [
            "Filtered Tokens : ['upon', 'time', ',', 'faraway', 'kingdom', ',', 'lived', 'beautiful', 'princess', 'named', 'Cinderella', '.', 'two', 'stepsisters', 'jealous', 'beauty', '.', 'Despite', 'hardships', ',', 'Cinderella', 'remained', 'kind-hearted', 'hopeful', '.', 'One', 'day', ',', 'grand', 'ball', 'announced', 'palace', ',', 'Cinderella', 'dreamt', 'attending', '.', 'help', 'fairy', 'godmother', ',', 'got', 'wish', 'went', 'ball', '.', ',', 'met', 'charming', 'prince', ',', 'danced', 'night', 'away', '.', 'clock', 'struck', 'midnight', ',', 'Cinderella', 'flee', ',', 'leaving', 'behind', 'glass', 'slipper', '.', 'prince', 'searched', 'kingdom', 'find', 'owner', 'glass', 'slipper', '.', 'Eventually', ',', 'found', 'Cinderella', ',', 'lived', 'happily', 'ever', '.']\n"
          ]
        }
      ]
    },
    {
      "cell_type": "code",
      "source": [
        "print(\"Part-of-Speech Tags:\", pos_tags)"
      ],
      "metadata": {
        "colab": {
          "base_uri": "https://localhost:8080/"
        },
        "id": "YsO812YjaZrG",
        "outputId": "d9c463fe-80d1-42cb-c176-ce62f17e5e0d"
      },
      "execution_count": 13,
      "outputs": [
        {
          "metadata": {
            "tags": null
          },
          "name": "stdout",
          "output_type": "stream",
          "text": [
            "Part-of-Speech Tags: [('Once', 'RB'), ('upon', 'IN'), ('a', 'DT'), ('time', 'NN'), (',', ','), ('in', 'IN'), ('a', 'DT'), ('faraway', 'NN'), ('kingdom', 'NN'), (',', ','), ('there', 'EX'), ('lived', 'VBD'), ('a', 'DT'), ('beautiful', 'JJ'), ('princess', 'NN'), ('named', 'VBN'), ('Cinderella', 'NNP'), ('.', '.'), ('She', 'PRP'), ('had', 'VBD'), ('two', 'CD'), ('stepsisters', 'NNS'), ('who', 'WP'), ('were', 'VBD'), ('jealous', 'JJ'), ('of', 'IN'), ('her', 'PRP$'), ('beauty', 'NN'), ('.', '.'), ('Despite', 'IN'), ('the', 'DT'), ('hardships', 'NNS'), (',', ','), ('Cinderella', 'NNP'), ('remained', 'VBD'), ('kind-hearted', 'JJ'), ('and', 'CC'), ('hopeful', 'JJ'), ('.', '.'), ('One', 'CD'), ('day', 'NN'), (',', ','), ('a', 'DT'), ('grand', 'JJ'), ('ball', 'NN'), ('was', 'VBD'), ('announced', 'VBN'), ('in', 'IN'), ('the', 'DT'), ('palace', 'NN'), (',', ','), ('and', 'CC'), ('Cinderella', 'NNP'), ('dreamt', 'NN'), ('of', 'IN'), ('attending', 'VBG'), ('it', 'PRP'), ('.', '.'), ('With', 'IN'), ('the', 'DT'), ('help', 'NN'), ('of', 'IN'), ('her', 'PRP$'), ('fairy', 'NN'), ('godmother', 'NN'), (',', ','), ('she', 'PRP'), ('got', 'VBD'), ('her', 'PRP'), ('wish', 'NN'), ('and', 'CC'), ('went', 'VBD'), ('to', 'TO'), ('the', 'DT'), ('ball', 'NN'), ('.', '.'), ('There', 'EX'), (',', ','), ('she', 'PRP'), ('met', 'VBD'), ('the', 'DT'), ('charming', 'VBG'), ('prince', 'NN'), (',', ','), ('and', 'CC'), ('they', 'PRP'), ('danced', 'VBD'), ('the', 'DT'), ('night', 'NN'), ('away', 'RB'), ('.', '.'), ('But', 'CC'), ('as', 'IN'), ('the', 'DT'), ('clock', 'NN'), ('struck', 'VBD'), ('midnight', 'NN'), (',', ','), ('Cinderella', 'NNP'), ('had', 'VBD'), ('to', 'TO'), ('flee', 'VB'), (',', ','), ('leaving', 'VBG'), ('behind', 'IN'), ('her', 'PRP'), ('glass', 'NN'), ('slipper', 'NN'), ('.', '.'), ('The', 'DT'), ('prince', 'NN'), ('searched', 'VBD'), ('the', 'DT'), ('kingdom', 'NN'), ('to', 'TO'), ('find', 'VB'), ('the', 'DT'), ('owner', 'NN'), ('of', 'IN'), ('the', 'DT'), ('glass', 'NN'), ('slipper', 'NN'), ('.', '.'), ('Eventually', 'RB'), (',', ','), ('he', 'PRP'), ('found', 'VBD'), ('Cinderella', 'NNP'), (',', ','), ('and', 'CC'), ('they', 'PRP'), ('lived', 'VBD'), ('happily', 'RB'), ('ever', 'RB'), ('after', 'IN'), ('.', '.')]\n"
          ]
        }
      ]
    },
    {
      "cell_type": "code",
      "source": [
        "ner_tags = ne_chunk(pos_tags)\n",
        "print(\"Named Entities:\")\n",
        "for chunk in ner_tags:\n",
        "    if hasattr(chunk, 'label'):\n",
        "        print(chunk.label(), ' '.join(c[0] for c in chunk))\n"
      ],
      "metadata": {
        "colab": {
          "base_uri": "https://localhost:8080/"
        },
        "id": "o4dWNr37agCr",
        "outputId": "c2118f62-3b8b-4023-af47-e4834db438ef"
      },
      "execution_count": 15,
      "outputs": [
        {
          "output_type": "stream",
          "name": "stdout",
          "text": [
            "Named Entities:\n",
            "PERSON Cinderella\n",
            "PERSON Cinderella\n",
            "ORGANIZATION Cinderella\n",
            "PERSON Cinderella\n",
            "PERSON Cinderella\n"
          ]
        }
      ]
    },
    {
      "cell_type": "markdown",
      "source": [],
      "metadata": {
        "id": "94DUWNzWaszj"
      }
    }
  ]
}