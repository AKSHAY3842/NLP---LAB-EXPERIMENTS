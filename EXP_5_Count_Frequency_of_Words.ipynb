{
  "nbformat": 4,
  "nbformat_minor": 0,
  "metadata": {
    "colab": {
      "provenance": [],
      "authorship_tag": "ABX9TyP1qs+LYlLzBfRyX1HxwGuR",
      "include_colab_link": true
    },
    "kernelspec": {
      "name": "python3",
      "display_name": "Python 3"
    },
    "language_info": {
      "name": "python"
    }
  },
  "cells": [
    {
      "cell_type": "markdown",
      "metadata": {
        "id": "view-in-github",
        "colab_type": "text"
      },
      "source": [
        "<a href=\"https://colab.research.google.com/github/AKSHAY3842/NLP---LAB-EXPERIMENTS/blob/main/EXP_5_Count_Frequency_of_Words.ipynb\" target=\"_parent\"><img src=\"https://colab.research.google.com/assets/colab-badge.svg\" alt=\"Open In Colab\"/></a>"
      ]
    },
    {
      "cell_type": "code",
      "execution_count": 1,
      "metadata": {
        "id": "KAmTOmY9H_ZW"
      },
      "outputs": [],
      "source": [
        "import re\n",
        "from collections import Counter"
      ]
    },
    {
      "cell_type": "code",
      "source": [
        "def tokenize_text(text):\n",
        "    words = re.findall(r'\\b\\w+\\b', text.lower())\n",
        "    return words"
      ],
      "metadata": {
        "id": "DkcnZyGwIGt4"
      },
      "execution_count": 2,
      "outputs": []
    },
    {
      "cell_type": "code",
      "source": [
        "def count_words(words):\n",
        "    word_count = Counter(words)\n",
        "    return word_count"
      ],
      "metadata": {
        "id": "wQiPozC1IG3S"
      },
      "execution_count": 3,
      "outputs": []
    },
    {
      "cell_type": "code",
      "source": [
        "# prompt: apple banana mango orango melon\n",
        "\n",
        "text = \"apple banana mango orango melon\"\n",
        "words = tokenize_text(text)\n",
        "word_count = count_words(words)\n",
        "print(word_count)\n"
      ],
      "metadata": {
        "id": "-Whkddy5IG5z"
      },
      "execution_count": 4,
      "outputs": []
    },
    {
      "cell_type": "code",
      "source": [
        "def main():\n",
        "    input_text = input(\"Please enter the text: \")\n",
        "\n",
        "    words = tokenize_text(input_text)\n",
        "\n",
        "    word_count = count_words(words)\n",
        "\n",
        "    for word, count in word_count.items():\n",
        "        print(f'{word}: {count}')"
      ],
      "metadata": {
        "id": "wbvElt6RIG8R"
      },
      "execution_count": 5,
      "outputs": []
    },
    {
      "cell_type": "code",
      "source": [
        "if __name__ == \"__main__\":\n",
        "    main()\n",
        ""
      ],
      "metadata": {
        "colab": {
          "base_uri": "https://localhost:8080/"
        },
        "id": "4eIxwvXEIG-j",
        "outputId": "aa2211fe-7ccd-484f-efb0-a202cf00f4cb"
      },
      "execution_count": 6,
      "outputs": [
        {
          "output_type": "stream",
          "name": "stdout",
          "text": [
            "Please enter the text: Sanchary enjoys reading books about spirituality and a wide range of other topics. These books provide access to fresh perspectives and ideas.\n",
            "sanchary: 1\n",
            "enjoys: 1\n",
            "reading: 1\n",
            "books: 2\n",
            "about: 1\n",
            "spirituality: 1\n",
            "and: 2\n",
            "a: 1\n",
            "wide: 1\n",
            "range: 1\n",
            "of: 1\n",
            "other: 1\n",
            "topics: 1\n",
            "these: 1\n",
            "provide: 1\n",
            "access: 1\n",
            "to: 1\n",
            "fresh: 1\n",
            "perspectives: 1\n",
            "ideas: 1\n"
          ]
        }
      ]
    }
  ]
}